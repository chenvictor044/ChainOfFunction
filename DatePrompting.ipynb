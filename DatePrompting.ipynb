{
 "cells": [
  {
   "cell_type": "code",
   "execution_count": 1,
   "id": "48d23778-536a-4969-9b19-fd17f39873e9",
   "metadata": {},
   "outputs": [
    {
     "name": "stdout",
     "output_type": "stream",
     "text": [
      "CPU times: user 336 ms, sys: 4.09 ms, total: 340 ms\n",
      "Wall time: 502 ms\n"
     ]
    }
   ],
   "source": [
    "%%time\n",
    "import pal\n",
    "import json\n",
    "import random\n",
    "from datetime import datetime\n",
    "from dateutil.relativedelta import relativedelta, MO\n",
    "from pal.prompt import math_prompts, colored_object_prompt, penguin_prompt, date_understanding_prompt, algorithmic_prompt\n",
    "from tqdm.notebook import tqdm"
   ]
  },
  {
   "cell_type": "code",
   "execution_count": 61,
   "id": "8c27d9a7-b2f2-4231-8334-293148813b7f",
   "metadata": {},
   "outputs": [
    {
     "name": "stdout",
     "output_type": "stream",
     "text": [
      "12/30/2014\n",
      "1/6/2015\n"
     ]
    },
    {
     "data": {
      "text/plain": [
       "'02/27/2017'"
      ]
     },
     "execution_count": 61,
     "metadata": {},
     "output_type": "execute_result"
    }
   ],
   "source": [
    "today = datetime(2015, 1, 1)\n",
    "today = today - relativedelta(hours=36)\n",
    "#print(type(today))\n",
    "print(str(today.month) + '/' + str(today.day) + '/' + str(today.year))\n",
    "today = today + relativedelta(days=7)\n",
    "#print(type(today))\n",
    "print(str(today.month) + '/' + str(today.day) + '/' + str(today.year))\n",
    "today = datetime(2001, 2, 28) + relativedelta(years=16)\n",
    "# Yesterday,\n",
    "yesterday = today - relativedelta(days=1)\n",
    "# The answer formatted with %m/%d/%Y is\n",
    "yesterday.strftime('%m/%d/%Y')"
   ]
  },
  {
   "cell_type": "code",
   "execution_count": 68,
   "id": "148dcdd6-55be-4643-bcd0-3fb325e7ef0c",
   "metadata": {},
   "outputs": [
    {
     "data": {
      "application/vnd.jupyter.widget-view+json": {
       "model_id": "daa072c03e7047d79735d4d8346719b8",
       "version_major": 2,
       "version_minor": 0
      },
      "text/plain": [
       "Going through date understanding questions:   0%|          | 0/369 [00:00<?, ?it/s]"
      ]
     },
     "metadata": {},
     "output_type": "display_data"
    },
    {
     "name": "stdout",
     "output_type": "stream",
     "text": [
      "Number correct = 323\n"
     ]
    }
   ],
   "source": [
    "\n",
    "\n",
    "interface = pal.interface.ProgramInterface(\n",
    "  model='gpt-4o-mini',\n",
    "  stop='\\n\\n\\n', # stop generation str for Codex API\n",
    "  get_answer_expr='solution()' # python expression evaluated after generated code to obtain answer \n",
    ")\n",
    "\n",
    "prompt = \"Whenever you synthesize information and perform reasoning, it is a Thought. When you need to find a date, it is an Action. There are 6 types of actions: incYear[M;D;Y;n], incMonth[M;D;Y;n], incDay[M;D;Y;n], decYear[M;D;Y;n], decMonth[M;D;Y;n], decDay[M;D;Y;n]. M, D, and Y are the Month, Day, and Year as an integer, respectively. n is the number of Years/Months/Days that you want to increment/decrement by. For example, if you wish to find the date 2 months after May 13th, 1973, you would perform the action incMonth[5;13;1973;2]. Terminate your response after an action. An Observation will be returned by the user. You will be given a question and you will perform Thoughts and Actions until you solve the question. When you get the answer, you will perform the Action called Finish and write Finish[answer]. While you are reasoning out solutions, continually refer back to relevant portions of the question and logically reason out and determine your next action. Let's think step by step.\"\n",
    "\n",
    "json_list = None\n",
    "max_count = 40\n",
    "counter = 0\n",
    "responses = []\n",
    "with open('datasets/date_understanding.json', 'r') as json_file:\n",
    "    json_list = json.load(json_file)\n",
    "json_list = json_list[\"examples\"]\n",
    "jsonSamples = random.sample(range(0, len(json_list)), max_count)\n",
    "#jsonSamples = [120, 294, 194, 131, 364, 196, 87]\n",
    "#jsonSamples = [819, 1000, 699, 749, 580, 366, 1275, 203, 492, 773]\n",
    "#jsonSamples = [269, 436, 836, 1291, 1283, 712, 391, 474, 1164, 783]\n",
    "#jsonSamples = [263, 88, 290, 351, 196]\n",
    "#print(jsonSamples)\n",
    "\n",
    "for json_pos in tqdm(range(len(json_list)), desc=\"Going through date understanding questions\"):\n",
    "    result = json_list[json_pos]\n",
    "    question = result[\"input\"]\n",
    "    target = result[\"target_scores\"]\n",
    "    curResponse = {\"question\": question, \"target\": target}\n",
    "    messages=[\n",
    "        {\"role\": \"system\", \"content\": \"You are a helpful assistant that accurately solves reasoning questions about dates by acting as an agent who will perform Thoughts and Actions.\"},\n",
    "#        {\"role\": \"user\", \"content\": prompt + '\\n' + \"Question: Fred remembers that on his 2nd day of being married, September 7th, he saw a calendar for the year. The year on the calendar was 2015. Today is his 2 year anniversary. What is the date today?\"},\n",
    "#        {\"role\": \"assistant\", \"content\": \"\"\"Thought: Fred's 2nd day of being married was on September 7th. The year on the calendar was 2015, so his 2nd day of being married must have been September 7th, 2015. Thus, the day that he got married was 1 day before 9/7/2015. Thus, I first need to find the day that is before 9/7/2015. \n",
    "#Action: decDay[9;7;2015;1]\"\"\"},\n",
    "#        {\"role\": \"user\", \"content\": \"Observation: 9/6/2015\"},\n",
    "#        {\"role\": \"assistant\", \"content\": \"\"\"Thought: So the day he got married was 9/6/2015. Today is his 2 year anniversary, so today's date is two years after 9/6/2015. \n",
    "#Action: incYear[9;6;2015;2]\"\"\"},\n",
    "#        {\"role\": \"user\", \"content\": \"Observation: 9/6/2017\"},\n",
    "#        {\"role\": \"assistant\", \"content\": \"\"\"Thought: So today is 9/6/2017. The question asks what date is today, so that is my answer.\n",
    "#Action: FINISH[09/06/2017]\"\"\"},\n",
    "#        {\"role\": \"user\", \"content\": prompt + '\\n' + \"Question: The date in 6 months will be October 18th, 2016. What will be the date in 53 days?\"},\n",
    "#        {\"role\": \"assistant\", \"content\": \"\"\"Thought: If the date in 6 months is October 18th, 2016, then today is 6 months before October 18th, 2016. Thus, I need to find the date 6 months before 10/18/2016.\n",
    "#Action: decMonth[10;18;2016;6]\"\"\"},\n",
    "#        {\"role\": \"user\", \"content\": \"Observation: 4/18/2016\"},\n",
    "#        {\"role\": \"assistant\", \"content\": \"\"\"Thought: So today is 4/18/2016. The question asks what the date will be in 53 days, so I need to find the date that is 53 days after 4/18/2016. \n",
    "#Action: incDay[4;18;2016;53]\"\"\"},\n",
    "#        {\"role\": \"user\", \"content\": \"Observation: 6/10/2016\"},\n",
    "#        {\"role\": \"assistant\", \"content\": \"\"\"Thought: So the date in 53 days is 6/10/2016.\n",
    "#Action: FINISH[06/10/2016]\"\"\"},\n",
    "        {\"role\": \"user\", \"content\": prompt + '\\n' + \"Question: 2015 is coming in 36 hours. What is the date one week from today in MM/DD/YYYY?\"},\n",
    "        {\"role\": \"assistant\", \"content\": \"\"\"Thought: If 2015 is coming in 36 hours, then today must be two days before 1/1/2015. I must first find today's date then.\n",
    "Action: decDay[1;1;2015;2]\"\"\"},\n",
    "        {\"role\": \"user\", \"content\": \"Observation: 12/30/2014\"},\n",
    "        {\"role\": \"assistant\", \"content\": \"\"\"Thought: Therefore, today is 12/30/2014. The question asks what the date one week from today is, so I must find the date that is 7 days after 12/30/2014.\n",
    "Action: incDay[12;30;2014]\"\"\"},\n",
    "        {\"role\": \"user\", \"content\": \"Observation: 1/6/2015\"},\n",
    "        {\"role\": \"assistant\", \"content\": \"\"\"Thought: Therefore, the date one week from today is 1/6/2015.\n",
    "Action: FINISH[01/06/2015]\"\"\"},\n",
    "        {\"role\": \"user\", \"content\": prompt + '\\n' + \"Question: The first day of 2019 is a Tuesday, and today is the first Monday of 2019. What is the date today in MM/DD/YYYY?\"},\n",
    "        {\"role\": \"assistant\", \"content\": \"\"\"Thought: If the first day of 2019 is a Tuesday, and today is the first Monday of 2019, then today is 6 days later. Thus, to find the date today, I need to find the date 6 days after 1/1/2019.\n",
    "Action: incDay[1;1;2019;6]\"\"\"},\n",
    "        {\"role\": \"user\", \"content\": \"Observation: 1/7/2019\"},\n",
    "        {\"role\": \"assistant\", \"content\": \"\"\"Thought: Therefore, the date today is 1/7/2019. The question asks for the date today, so this is my answer.\n",
    "Action: FINISH[01/07/2019]\"\"\"},\n",
    "        {\"role\": \"user\", \"content\": prompt + '\\n' + \"Question: Jane was born on the last day of Feburary in 2001. Today is her 16-year-old birthday. What is the date yesterday in MM/DD/YYYY?\"},\n",
    "        {\"role\": \"assistant\", \"content\": \"\"\"Thought: If Jane was born on the last day of Feburary in 2001 and today is her 16-year-old birthday, then today is 16 years later. The last day of February in 2001 was 2/28/2001, so I first need to find the date 16 years after 2/28/2001.\n",
    "Action: incYear[2;28;2001;16]\"\"\"},\n",
    "        {\"role\": \"user\", \"content\": \"Observation: 2/28/2017\"},\n",
    "        {\"role\": \"assistant\", \"content\": \"\"\"Thought: Therefore, today is 2/28/2017. The question asks for the date yesterday, so I need to find the day before 2/28/2017.\n",
    "Action: decDay[2;28;2017;1]\"\"\"},\n",
    "        {\"role\": \"user\", \"content\": \"Observation: 2/27/2017\"},\n",
    "        {\"role\": \"assistant\", \"content\": \"\"\"Thought: Therefore, the date yesterday was 2/27/2017, which is what the question asks for.\n",
    "Action: FINISH[02/27/2017]\"\"\"},\n",
    "        {\"role\": \"user\", \"content\": prompt + '\\n' + \"Question: \" + question}\n",
    "    ]\n",
    "    #for message in messages:\n",
    "    #    print(message[\"role\"].upper())\n",
    "    #    print(message[\"content\"])\n",
    "    #    print(\"\")\n",
    "    #break\n",
    "    # interface.verbose = True\n",
    "    finished = False\n",
    "    #print(question)\n",
    "    #print(\"Target: \" + str(target))\n",
    "    numIter = 0\n",
    "    maxIter = 20\n",
    "    while not finished:\n",
    "        if numIter >= maxIter:\n",
    "            curResponse[\"received\"] = -98765421\n",
    "            print(\"Maximum number of iterations reached\")\n",
    "            print(\"#####################################\")\n",
    "            break\n",
    "        gens = interface.generate_history(messages=messages, max_tokens=1024)\n",
    "        output = gens[0]\n",
    "        #print(output)\n",
    "        messages.append({\"role\": \"assistant\", \"content\": output})\n",
    "        curAction = output[output.find(\"Action: \") + len(\"Action: \"):]\n",
    "        curAction = curAction.lower()\n",
    "        expression = curAction[curAction.find('[') + 1:curAction.find(']')]\n",
    "        expression = expression.replace(',', '') # Commas are interpreted as tuples, so we remove them to avoid errors with eval\n",
    "        #print(curAction)\n",
    "        if \"finish\" in curAction:\n",
    "            finished = True\n",
    "            curResponse[\"received\"] = expression\n",
    "        else:\n",
    "            expression = expression.split(';')\n",
    "            try:\n",
    "                curDay = datetime(int(expression[2]), int(expression[0]), int(expression[1]))\n",
    "                num = int(expression[3])\n",
    "            except:\n",
    "                messages.append({\"role\": \"user\", \"content\": \"Observation: That was not a valid action. Please input a valid one.\"})\n",
    "            if \"incday\" in curAction:\n",
    "                curDay = curDay + relativedelta(days=num)\n",
    "            elif \"incmonth\" in curAction:\n",
    "                curDay = curDay + relativedelta(months=num)\n",
    "            elif \"incyear\" in curAction:\n",
    "                curDay = curDay + relativedelta(years=num)\n",
    "            elif \"decday\" in curAction:\n",
    "                curDay = curDay - relativedelta(days=num)\n",
    "            elif \"decmonth\" in curAction:\n",
    "                curDay = curDay - relativedelta(months=num)\n",
    "            elif \"decyear\" in curAction:\n",
    "                curDay = curDay - relativedelta(years=num)\n",
    "            else:\n",
    "                evaled = \"That was not a valid action. Please input a valid one.\"\n",
    "            messages.append({\"role\": \"user\", \"content\": \"Observation: \" + str(curDay.month) + '/' + str(curDay.day) + '/' + str(curDay.year)})\n",
    "            #print(messages[-1][\"content\"])\n",
    "    curResponse[\"messages\"] = messages\n",
    "    responses.append(curResponse)\n",
    "    counter += 1\n",
    "\n",
    "numCorrect = 0\n",
    "curCount = 0\n",
    "for response in responses:\n",
    "    #print(\"Problem \" + str(curCount))\n",
    "    #print(\"Received: \" + response[\"received\"])\n",
    "    #print(\"Target: \", end=\"\")\n",
    "    #print(response[\"target\"])\n",
    "    #print(\"\")\n",
    "    curCount += 1\n",
    "    #for message in response[\"messages\"]:\n",
    "    #    print(message[\"content\"])\n",
    "    if response[\"received\"] not in response[\"target\"].keys():\n",
    "        continue\n",
    "    if response[\"target\"][response[\"received\"]] == 1:\n",
    "        numCorrect += 1\n",
    "print(\"Number correct = \" + str(numCorrect))\n",
    "with open('date-prompting-results-01-gpt-4o-mini.json', 'w') as f:\n",
    "    json.dump(responses, f)"
   ]
  },
  {
   "cell_type": "code",
   "execution_count": 44,
   "id": "7d3e0d8c-fa76-47a1-8840-94d7244f181b",
   "metadata": {},
   "outputs": [
    {
     "name": "stdout",
     "output_type": "stream",
     "text": [
      "You are a helpful assistant that accurately solves reasoning questions about dates by acting as an agent who will perform Thoughts and Actions.\n",
      "Whenever you synthesize information and perform reasoning, it is a Thought. When you need to find a date, it is an Action. There are 6 types of actions: incYear[M;D;Y;n], incMonth[M;D;Y;n], incDay[M;D;Y;n], decYear[M;D;Y;n], decMonth[M;D;Y;n], decDay[M;D;Y;n]. M, D, and Y are the Month, Day, and Year as an integer, respectively. n is the number of Years/Months/Days that you want to increment/decrement by. For example, if you wish to find the date 2 months after May 13th, 1973, you would perform the action incMonth[5, 13, 1973, 2]. Terminate your response after an action. Then, an Observation is returned by the user. You will be given a question and you will perform Thoughts and Actions until you get the answer. When you get the answer, you will perform the Action called Finish and write Finish[answer]. While you are reasoning out solutions, ensure that you continually refer back to relevant parts of the question and employ logical reasoning to determine your next action.\n",
      "Question: Fred remembers that on his 2nd day of being married, September 7th, he ate food. He ordered the food in 2015. Today is his 2 year anniversary. What is the date today?\n",
      "Thought: Fred's 2nd day of being married was on September 7th. He ordered the food in 2015, so his 2nd day of being married must have been September 7th, 2015. Thus, the day that he got married was 1 day before 9/7/2015. Thus, I first need to find the day that is before 9/7/2015. \n",
      "Action: decDay[9;7;2015;1]\n",
      "Observation: 9/6/2015\n",
      "Thought: So the day he got married was 9/6/2015. Today is his 2 year anniversary, so today's date is two years after 9/6/2015. \n",
      "Action: incYear[9;6;2015;2]\n",
      "Observation: 9/6/2017\n",
      "Thought: So today is 9/6/2017. The question asks what date is today, so that is my answer.\n",
      "Action: FINISH[09/06/2017]\n",
      "Whenever you synthesize information and perform reasoning, it is a Thought. When you need to find a date, it is an Action. There are 6 types of actions: incYear[M;D;Y;n], incMonth[M;D;Y;n], incDay[M;D;Y;n], decYear[M;D;Y;n], decMonth[M;D;Y;n], decDay[M;D;Y;n]. M, D, and Y are the Month, Day, and Year as an integer, respectively. n is the number of Years/Months/Days that you want to increment/decrement by. For example, if you wish to find the date 2 months after May 13th, 1973, you would perform the action incMonth[5, 13, 1973, 2]. Terminate your response after an action. Then, an Observation is returned by the user. You will be given a question and you will perform Thoughts and Actions until you get the answer. When you get the answer, you will perform the Action called Finish and write Finish[answer]. While you are reasoning out solutions, ensure that you continually refer back to relevant parts of the question and employ logical reasoning to determine your next action.\n",
      "Question: The date in 6 months will be October 18th, 2016. What will be the date in 53 days?\n",
      "Thought: If the date in 6 months is October 18th, 2016, then today is 6 months before October 18th, 2016. Thus, I need to find the date 6 months before 10/18/2016.\n",
      "Action: decMonth[10;18;2016;6]\n",
      "Observation: 4/18/2016\n",
      "Thought: So today is 4/18/2016. The question asks what the date will be in 53 days, so I need to find the date that is 53 days after 4/18/2016. \n",
      "Action: incDay[4;18;2016;53]\n",
      "Observation: 6/10/2016\n",
      "Thought: So the date in 53 days is 6/10/2016.\n",
      "Action: FINISH[06/10/2016]\n",
      "Whenever you synthesize information and perform reasoning, it is a Thought. When you need to find a date, it is an Action. There are 6 types of actions: incYear[M;D;Y;n], incMonth[M;D;Y;n], incDay[M;D;Y;n], decYear[M;D;Y;n], decMonth[M;D;Y;n], decDay[M;D;Y;n]. M, D, and Y are the Month, Day, and Year as an integer, respectively. n is the number of Years/Months/Days that you want to increment/decrement by. For example, if you wish to find the date 2 months after May 13th, 1973, you would perform the action incMonth[5, 13, 1973, 2]. Terminate your response after an action. Then, an Observation is returned by the user. You will be given a question and you will perform Thoughts and Actions until you get the answer. When you get the answer, you will perform the Action called Finish and write Finish[answer]. While you are reasoning out solutions, ensure that you continually refer back to relevant parts of the question and employ logical reasoning to determine your next action.\n",
      "Question: Tomorrow is 11/12/2019. What is the date 24 hours later in MM/DD/YYYY?\n",
      "Thought: If tomorrow is 11/12/2019, then today is 11/11/2019. The question asks for the date 24 hours later, which is the same as saying the date the next day. Therefore, I need to find the date one day after 11/12/2019. \n",
      "Action: incDay[11;12;2019;1]\n",
      "Observation: 11/13/2019\n",
      "Thought: So the date 24 hours later is 11/13/2019. \n",
      "Action: FINISH[11/13/2019]\n"
     ]
    }
   ],
   "source": [
    "for message in responses[1][\"messages\"]:\n",
    "    print(message[\"content\"])"
   ]
  },
  {
   "cell_type": "code",
   "execution_count": 5,
   "id": "23062eca-f14b-497a-91fd-50d3de6786ea",
   "metadata": {},
   "outputs": [
    {
     "name": "stdout",
     "output_type": "stream",
     "text": [
      "369\n"
     ]
    }
   ],
   "source": [
    "print(len(json_list))"
   ]
  },
  {
   "cell_type": "code",
   "execution_count": null,
   "id": "c0d6071b-ae37-4a06-937a-8cac2ec37d1f",
   "metadata": {},
   "outputs": [],
   "source": []
  }
 ],
 "metadata": {
  "kernelspec": {
   "display_name": "Python 3 (ipykernel)",
   "language": "python",
   "name": "python3"
  },
  "language_info": {
   "codemirror_mode": {
    "name": "ipython",
    "version": 3
   },
   "file_extension": ".py",
   "mimetype": "text/x-python",
   "name": "python",
   "nbconvert_exporter": "python",
   "pygments_lexer": "ipython3",
   "version": "3.12.4"
  }
 },
 "nbformat": 4,
 "nbformat_minor": 5
}
