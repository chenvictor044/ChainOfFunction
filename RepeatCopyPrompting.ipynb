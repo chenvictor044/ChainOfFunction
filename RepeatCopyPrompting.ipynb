{
 "cells": [
  {
   "cell_type": "code",
   "execution_count": 90,
   "id": "99d5929f-84de-4385-bcc8-f326a9150fda",
   "metadata": {},
   "outputs": [
    {
     "name": "stdout",
     "output_type": "stream",
     "text": [
      "CPU times: user 165 μs, sys: 4 μs, total: 169 μs\n",
      "Wall time: 200 μs\n"
     ]
    }
   ],
   "source": [
    "%%time\n",
    "import pal\n",
    "import json\n",
    "import random\n",
    "import io\n",
    "import pandas as pd\n",
    "from datetime import datetime\n",
    "from dateutil.relativedelta import relativedelta, MO\n",
    "from pal.prompt import math_prompts, colored_object_prompt, penguin_prompt, date_understanding_prompt, algorithmic_prompt\n",
    "from tqdm.notebook import tqdm"
   ]
  },
  {
   "cell_type": "code",
   "execution_count": 98,
   "id": "18bd39b9-0608-490d-a7cd-4da3e1010f8a",
   "metadata": {},
   "outputs": [],
   "source": [
    "#(4) REMOVE_START[position]REMOVE_END: REMOVE takes a position and removes the word at that position. NOTE: This list is zero indexed, so REMOVE_START[0]REMOVE_END would remove the first element of the list.\n",
    "\n",
    "prompt = \"\"\"Whenever you synthesize information and perform reasoning, it is a Thought. When you need to perform a function on the list, it is an Action. There are 4 types of actions: \n",
    "(1) ADD_START[word;number]ADD_END: ADD takes in a word and a number, and appends the word the number of times that it's specified. For example, ADD[hello;3] will append \"hello\" 3 times to the list.\n",
    "(2) INSERT_START[word;position]INSERT_END: INSERT takes in a word and a position, and inserts that word at the position. For example, if our list is [\"hello\", \"hi\", \"three\", \"four\", \"five\"], then INSERT[bye;1 would turn the list into [\"hello\", \"bye\", \"hi\", \"three\", \"four\", \"five\"].\n",
    "(3) PRINT_START[]PRINT_END: PRINT will print all the words in the list with spaces in between. For example, if the current list is [\"hello\", \"world\", \"hello\"], then PRINT_START[]PRINT_END will return \"hello world hello\". \n",
    "(4) FINISH_START[answer]FINISH_END: When you finish a question, write your answer as FINISH_START[answer]FINISH_END and terminate your response.\n",
    "Terminate your response after an action. An Observation will be returned by the user. You will be given a question and you will perform Thoughts and Actions until you get the answer. When you get the answer, you will perform the Action called FINISH.  Let's think step by step. Think carefully about the question to accurately perform actions. The questions may be vaguely phrased, some advice is to take it as literally as possible. REMEMBER: The list (and therefore the positions of the words) change after insertion. Take this into account for your inputs. For example, if we inserted at position 2, what was previously position 4 is now position 5.\"\"\"\n",
    "repeat_messages = [\n",
    "    {\"role\": \"system\", \"content\": \"You are a helpful assistant that accurately solves reasoning questions by acting as an agent who will perform Thoughts and Actions.\"},\n",
    "    {\"role\": \"user\", \"content\": prompt + '\\n' + \"Question: Output hello the world the eat 3 times, but after the 2nd time, say meow\"},\n",
    "    {\"role\": \"assistant\", \"content\": \"\"\"Thought: First, I will add \"hello the world the eat\" 3 times to the list with the ADD action.\n",
    "Action: ADD_START[hello the world the eat;3]\"\"\"},\n",
    "    {\"role\": \"user\", \"content\": \"\"\"Observation: Added \"hello the world the eat\" 3 times.\"\"\"},\n",
    "    {\"role\": \"assistant\", \"content\": \"\"\"Thought: Now I need to insert \"meow\" into the position 2 to be after the 2nd \"hello world\".\n",
    "Action: INSERT[meow;2]\"\"\"},\n",
    "    {\"role\": \"user\", \"content\": \"\"\"Observation: Inserted \"meow\" at position 2.\"\"\"},\n",
    "    {\"role\": \"assistant\", \"content\": \"\"\"Thought: Now to see the final list, I will perform the action PRINT.\n",
    "Action: PRINT_START[]PRINT_END\"\"\"},\n",
    "    {\"role\": \"user\", \"content\": \"Observation: hello the world the eat hello the world the eat meow hello the world the eat\"},\n",
    "    {\"role\": \"assistant\", \"content\": \"\"\"Thought: Now I can finish with this list.\n",
    "Action: FINISH_START[hello the world the eat hello the world the eat meow hello the world the eat]\"\"\"}\n",
    "]"
   ]
  },
  {
   "cell_type": "code",
   "execution_count": 100,
   "id": "94df834d-8690-40ef-9955-cff90db27332",
   "metadata": {},
   "outputs": [
    {
     "name": "stdout",
     "output_type": "stream",
     "text": [
      "[21, 31, 28]\n"
     ]
    },
    {
     "data": {
      "application/vnd.jupyter.widget-view+json": {
       "model_id": "b964d05b8b664af4b6b6432f866aa88d",
       "version_major": 2,
       "version_minor": 0
      },
      "text/plain": [
       "Going through math questions:   0%|          | 0/32 [00:00<?, ?it/s]"
      ]
     },
     "metadata": {},
     "output_type": "display_data"
    },
    {
     "name": "stdout",
     "output_type": "stream",
     "text": [
      "3\n",
      "Target: all the world all the world is a stage all the world all the world is a stage all the world all the world is a stage all the world\n",
      "Received: all the world all the world is a stage all the world is a stage all the world is a stage all the world all the world all the world\n",
      "\n",
      "5\n",
      "Target: python python data python python data python python data\n",
      "Received: python python data python python data python python data python python data\n",
      "\n",
      "6\n",
      "Target: logic logic logic true logic logic logic logic logic true logic logic logic\n",
      "Received: logic logic logic logic true logic logic logic logic logic true logic logic\n",
      "\n",
      "11\n",
      "Target: carbon pricing is an carbon pricing is an interesting concept carbon pricing is an carbon pricing is an\n",
      "Received: carbon pricing is an carbon pricing is an carbon pricing is an interesting concept carbon pricing is an\n",
      "\n",
      "15\n",
      "Target: election to cool the council cool election to cool the council cool election to cool the council cool\n",
      "Received: election to the council election to the council cool election to the council cool\n",
      "\n",
      "17\n",
      "Target: the village has a population larger than California the village has a population the village has a population larger than California the village has a population the village has a population larger than California\n",
      "Received: the village has a population the village has a population larger than California the village has a population larger than California the village has a population larger than California the village has a population\n",
      "\n",
      "18\n",
      "Target: a genus of plants in what family? a genus of plants in what family? a genus of plants in what family? a genus of plants in what family? The happy family\n",
      "Received: ask a genus of plants in what family? ask a genus of plants in what family? ask a genus of plants in what family? ask a genus of plants in what family? The happy family\n",
      "\n",
      "20\n",
      "Target: Who plays the bass loud? The School of Music The School of Music The School of Music\n",
      "Received: The School of Music Who plays the bass loud? The School of Music The School of Music\n",
      "\n",
      "21\n",
      "Target: cheese cheese cheese whiz cheese cheese cheese whiz cheese\n",
      "Received: cheese cheese cheese whiz cheese cheese whiz cheese cheese whiz\n",
      "\n",
      "23\n",
      "Target: all work and no play makes Jill all work and no play makes Jack all work and no play makes Jill\n",
      "Received: all work and no play makes Jill all work and no play makes Jack all work and no play makes\n",
      "\n",
      "24\n",
      "Target: a woodchuck chucks five pounds of wood a woodchuck chucks two tons of wood\n",
      "Received: a woodchuck chucks five pounds wood a woodchuck chucks two tons wood\n",
      "\n",
      "29\n",
      "Target: cars gas all cars eat gas cars gas all cars eat gas\n",
      "Received: all cars eat gas cars gas all cars eat gas cars gas all cars eat gas all cars eat gas\n",
      "\n",
      "31\n",
      "Target: the botanical gardens are great the botanical gardens are beautiful the botanical gardens are wonderful the botanical gardens are beautiful the botanical gardens are great\n",
      "Received: the botanical gardens the botanical gardens the botanical gardens the botanical gardens the botanical gardens great\n",
      "\n",
      "Number correct = 19\n"
     ]
    }
   ],
   "source": [
    "interface = pal.interface.ProgramInterface(\n",
    "  model='gpt-4o-mini',\n",
    "  stop='\\n\\n\\n', # stop generation str for Codex API\n",
    "  get_answer_expr='solution()' # python expression evaluated after generated code to obtain answer \n",
    ")\n",
    "json_list = None\n",
    "max_count = 3\n",
    "counter = 0\n",
    "responses = []\n",
    "with open('../prompt-lib/data/tasks/repeatcopy.jsonl', 'r') as json_file:\n",
    "    json_list = list(json_file)\n",
    "jsonSamples = random.sample(range(0, len(json_list)), max_count)\n",
    "maxIters = 20\n",
    "print(jsonSamples)\n",
    "\n",
    "for json_pos in tqdm(range(len(json_list)), desc=\"Going through math questions\"):\n",
    "    result = json.loads(json_list[json_pos])\n",
    "    question = result[\"input\"]\n",
    "    target = result[\"target\"]\n",
    "    curResponse = {\"question\": question, \"target\": target}\n",
    "    messages = []\n",
    "    for message in repeat_messages:\n",
    "        messages.append(message)\n",
    "    messages.append({\"role\": \"user\", \"content\": prompt + '\\n' + \"Question: \" + question})\n",
    "    # interface.verbose = True\n",
    "    finished = False\n",
    "    curList = []\n",
    "    #print(\"Question: \")\n",
    "    #print(question)\n",
    "    #print(\"\")\n",
    "    numIters = 0\n",
    "    while not finished:\n",
    "        if numIters >= maxIters:\n",
    "            print(\"##############################################\")\n",
    "            print(\"Maximum Number of Iterations Reached\")\n",
    "            print(\"Question \" + str(json_pos))\n",
    "            print(\"\")\n",
    "            curResponse[\"received\"] = -987654321\n",
    "            break\n",
    "        numIters += 1\n",
    "        gens = interface.generate_history(messages=messages, max_tokens=1024)\n",
    "        output = gens[0]\n",
    "        #print(\"Output:\")\n",
    "        #print(output)\n",
    "        #print(\"\")\n",
    "        messages.append({\"role\": \"assistant\", \"content\": output})\n",
    "        curAction = output[output.find(\"Action: \") + len(\"Action: \"):]\n",
    "        if \"FINISH\" in curAction:\n",
    "            finished = True\n",
    "            expression = curAction[curAction.find(\"FINISH_START[\") + len(\"FINISH_START[\"):curAction.find(\"]FINISH_END\")]\n",
    "            try:\n",
    "                curResponse[\"received\"] = expression\n",
    "            except:\n",
    "                print(\"#################################################\")\n",
    "                print(\"Finish Error\")\n",
    "                print(\"Question \" + str(counter))\n",
    "                print(output)\n",
    "                curResponse[\"received\"] = -987654321\n",
    "        else:\n",
    "            evaled = \"\"\n",
    "            if \"ADD\" in curAction:\n",
    "                expression = curAction[curAction.find(\"ADD_START[\") + len(\"ADD_START[\"):curAction.find(\"]ADD_END\")]\n",
    "                expression = expression.split(';')\n",
    "                try:\n",
    "                    for i in range(int(expression[1])):\n",
    "                        curList.append(expression[0])\n",
    "                    evaled = \"Added \\\"\" + expression[0] + \"\\\" \" + expression[1] + \" times.\\n\"\n",
    "                    evaled = evaled + \"This is the new list: \" + str(curList)\n",
    "                except Exception as e:\n",
    "                    evaled = f\"That was an invalid input. This was the exception: {e}. Try again.\"\n",
    "                #print(curTable)\n",
    "            elif \"INSERT\" in curAction:\n",
    "                expression = curAction[curAction.find(\"INSERT_START[\") + len(\"INSERT_START[\"):curAction.find(\"]INSERT_END\")]\n",
    "                expression = expression.split(';')\n",
    "                try:\n",
    "                    #posits = json.loads(expression[1])\n",
    "                    #posits.sort()\n",
    "                    posits = [int(expression[1])]\n",
    "                    for i in range(len(posits)):\n",
    "                        curList.insert(i + posits[i], expression[0])\n",
    "                    evaled = \"Inserted \\\"\" + expression[0] + \"\\\" at position\"\n",
    "                    for posit in posits:\n",
    "                        evaled = evaled + ' ' + str(posit)\n",
    "                    evaled = evaled + '\\n'\n",
    "                    evaled = evaled + \"This is the new list: \" + str(curList)\n",
    "                except Exception as e:\n",
    "                    evaled = f\"That was an invalid input. This was the exception: {e}. Try again.\"\n",
    "            elif \"REMOVE\" in curAction:\n",
    "                try:\n",
    "                    expression = curAction[curAction.find(\"REMOVE_START[\") + len(\"REMOVE_START[\"):curAction.find(\"]REMOVE_END\")]\n",
    "                    curList.pop(int(expression))\n",
    "                    evaled = \"Removed word at position \" + expression + '\\n'\n",
    "                    evaled = evaled + \"This is the new list: \" + str(curList)\n",
    "                except Exception as e:\n",
    "                    evaled = f\"That was an invalid input. This was the exception: {e}. Try again.\"\n",
    "            elif \"PRINT\" in curAction:\n",
    "                expression = curAction[curAction.find(\"PRINT_START[\") + len(\"PRINT_START[\"):curAction.find(\"]PRINT_END\")]\n",
    "                evaled = \" \".join(curList)\n",
    "            else:\n",
    "                evaled = \"That was not a valid calculation. Please input a valid one.\"\n",
    "        messages.append({\"role\": \"user\", \"content\": \"Observation: \" + evaled})\n",
    "    curResponse[\"messages\"] = messages\n",
    "    responses.append(curResponse)\n",
    "numCorrect = 0\n",
    "for i in range(len(responses)):\n",
    "    response = responses[i]\n",
    "    if response[\"target\"] == response[\"received\"]:\n",
    "        numCorrect += 1\n",
    "    else:\n",
    "        print(i)\n",
    "        print(\"Target: \" + str(response[\"target\"]))\n",
    "        print(\"Received: \" + str(response[\"received\"]))\n",
    "        print(\"\")\n",
    "print(\"Number correct = \" + str(numCorrect))"
   ]
  },
  {
   "cell_type": "code",
   "execution_count": 88,
   "id": "c23cb4f8-150c-46b1-b3a8-85faf30a0b36",
   "metadata": {},
   "outputs": [
    {
     "name": "stdout",
     "output_type": "stream",
     "text": [
      "Whenever you synthesize information and perform reasoning, it is a Thought. When you need to perform a function on the list, it is an Action. There are 4 types of actions: \n",
      "(1) ADD_START[word;number]ADD_END: ADD takes in a word and a number, and appends the word the number of times that it's specified. For example, ADD[hello;3] will append \"hello\" 3 times to the list.\n",
      "(2) INSERT_START[word;position]INSERT_END: INSERT takes in a word and a position, and inserts that word at the position. For example, if our list is [\"hello\", \"hi\", \"three\", \"four\", \"five\"], then INSERT[bye;1 would turn the list into [\"hello\", \"bye\", \"hi\", \"three\", \"four\", \"five\"].\n",
      "(3) PRINT_START[]PRINT_END: PRINT will print all the words in the list with spaces in between. For example, if the current list is [\"hello\", \"world\", \"hello\"], then PRINT_START[]PRINT_END will return \"hello world hello\". \n",
      "(4) FINISH_START[answer]FINISH_END: When you finish a question, write your answer as FINISH_START[answer]FINISH_END and terminate your response.\n",
      "Terminate your response after an action. An Observation will be returned by the user. You will be given a question and you will perform Thoughts and Actions until you get the answer. When you get the answer, you will perform the Action called FINISH. \n",
      "Let's think step by step. Think carefully about the question to accurately perform actions. The questions may be vaguely phrased, some advice is to take it as literally as possible. For example \"Say the things that are six times\" should be interpreted as adding \"the things that are\" six times to the list. REMEMBER: The list (and therefore the positions of the words) change after insertion. Take this into account for your inputs.\n",
      "Question: Repeat all the world seven times, and after every second time add is a stage.\n",
      "Thought: I will first add \"all the world\" 7 times to the list. Then, I will insert \"is a stage\" after every second occurrence of \"all the world\". \n",
      "\n",
      "Action: ADD_START[all the world;7]\n",
      "Observation: Added \"all the world\" 7 times.\n",
      "This is the new list: ['all the world', 'all the world', 'all the world', 'all the world', 'all the world', 'all the world', 'all the world']\n",
      "Thought: Now I will insert \"is a stage\" after the 2nd, 4th, and 6th occurrences of \"all the world\". I will do this step by step.\n",
      "\n",
      "First, I will insert \"is a stage\" after the 2nd occurrence (which is at position 2). \n",
      "\n",
      "Action: INSERT_START[is a stage;2]\n",
      "Observation: Inserted \"is a stage\" at position 2\n",
      "This is the new list: ['all the world', 'all the world', 'is a stage', 'all the world', 'all the world', 'all the world', 'all the world', 'all the world']\n",
      "Thought: Next, I will insert \"is a stage\" after the 4th occurrence (which is now at position 4).\n",
      "\n",
      "Action: INSERT_START[is a stage;4]\n",
      "Observation: Inserted \"is a stage\" at position 4\n",
      "This is the new list: ['all the world', 'all the world', 'is a stage', 'all the world', 'is a stage', 'all the world', 'all the world', 'all the world', 'all the world']\n",
      "Thought: Now, I will insert \"is a stage\" after the 6th occurrence (which is now at position 6).\n",
      "\n",
      "Action: INSERT_START[is a stage;6]\n",
      "Observation: Inserted \"is a stage\" at position 6\n",
      "This is the new list: ['all the world', 'all the world', 'is a stage', 'all the world', 'is a stage', 'all the world', 'is a stage', 'all the world', 'all the world', 'all the world']\n",
      "Thought: Now I will print the final list to see the result.\n",
      "\n",
      "Action: PRINT_START[]PRINT_END\n",
      "Observation: all the world all the world is a stage all the world is a stage all the world is a stage all the world all the world all the world\n",
      "Thought: Now I can finish with this output.\n",
      "\n",
      "Action: FINISH_START[all the world all the world is a stage all the world is a stage all the world is a stage all the world all the world all the world]FINISH_END\n",
      "Observation: all the world all the world is a stage all the world is a stage all the world is a stage all the world all the world all the world\n"
     ]
    }
   ],
   "source": [
    "for message in responses[3][\"messages\"][len(repeat_messages):]:\n",
    "    print(message[\"content\"])"
   ]
  },
  {
   "cell_type": "code",
   "execution_count": 61,
   "id": "42a248db-ea82-4d9a-b457-c90bde105beb",
   "metadata": {},
   "outputs": [
    {
     "name": "stdout",
     "output_type": "stream",
     "text": [
      "32\n"
     ]
    }
   ],
   "source": [
    "print(len(json_list))"
   ]
  },
  {
   "cell_type": "code",
   "execution_count": 14,
   "id": "dd0c25bf-3b6b-4556-bc55-e93fd816bf11",
   "metadata": {},
   "outputs": [
    {
     "name": "stdout",
     "output_type": "stream",
     "text": [
      "['cat', 'cat', 'cat', 'cat', 'cat']\n",
      "['cat', 'mouse', 'cat', 'cat', 'cat', 'cat']\n",
      "['cat', 'mouse', 'cat', 'cat', 'mouse', 'cat', 'cat']\n",
      "['cat', 'mouse', 'cat', 'cat', 'mouse', 'cat', 'cat', 'mouse']\n",
      "['cat', 'mouse', 'cat', 'cat', 'mouse', 'cat', 'cat', 'mouse', 'mouse']\n",
      "['cat', 'mouse', 'cat', 'cat', 'mouse', 'cat', 'cat', 'mouse', 'mouse', 'mouse']\n"
     ]
    }
   ],
   "source": [
    "tempList = []\n",
    "for i in range(int(\"5\")):\n",
    "    tempList.append(\"cat\")\n",
    "posits = json.loads(\"[1, 3, 5, 7, 9]\")\n",
    "posits.sort()\n",
    "print(tempList)\n",
    "for i in range(len(posits)):\n",
    "    tempList.insert(i + posits[i], \"mouse\")\n",
    "    print(tempList)"
   ]
  },
  {
   "cell_type": "code",
   "execution_count": null,
   "id": "ff2c2aab-8603-4e2c-b68d-767479cfe08e",
   "metadata": {},
   "outputs": [],
   "source": []
  }
 ],
 "metadata": {
  "kernelspec": {
   "display_name": "Python 3 (ipykernel)",
   "language": "python",
   "name": "python3"
  },
  "language_info": {
   "codemirror_mode": {
    "name": "ipython",
    "version": 3
   },
   "file_extension": ".py",
   "mimetype": "text/x-python",
   "name": "python",
   "nbconvert_exporter": "python",
   "pygments_lexer": "ipython3",
   "version": "3.12.4"
  }
 },
 "nbformat": 4,
 "nbformat_minor": 5
}
