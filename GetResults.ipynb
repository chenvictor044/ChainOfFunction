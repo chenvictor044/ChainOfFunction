{
 "cells": [
  {
   "cell_type": "code",
   "execution_count": 2,
   "id": "7b1815e7-fbd9-416b-b692-5b4b20cc1cec",
   "metadata": {},
   "outputs": [],
   "source": [
    "import json"
   ]
  },
  {
   "cell_type": "code",
   "execution_count": 5,
   "id": "96befe3b-4700-41fc-80c2-578d005a6880",
   "metadata": {},
   "outputs": [
    {
     "name": "stdout",
     "output_type": "stream",
     "text": [
      "Number correct = 523\n",
      "Total = 587\n"
     ]
    },
    {
     "data": {
      "text/plain": [
       "'\\nfor message in json_list[35][\"messages\"]:\\n    print(message[\"role\"].upper())\\n    print(message[\"content\"])\\n    print(\"\")\\n'"
      ]
     },
     "execution_count": 5,
     "metadata": {},
     "output_type": "execute_result"
    }
   ],
   "source": [
    "json_list = None\n",
    "with open('gsm-results-03-first587-gpt-4o-mini.json', 'r') as json_file:\n",
    "    json_list = json.load(json_file)\n",
    "numCorrect = 0\n",
    "for i in range(len(json_list)):\n",
    "    if abs(json_list[i][\"target\"] - json_list[i][\"received\"]) < 1e-6:\n",
    "        #print(i)\n",
    "        numCorrect += 1\n",
    "print(\"Number correct = \" + str(numCorrect))\n",
    "print(\"Total = \" + str(len(json_list)))\n",
    "'''\n",
    "for message in json_list[35][\"messages\"]:\n",
    "    print(message[\"role\"].upper())\n",
    "    print(message[\"content\"])\n",
    "    print(\"\")\n",
    "'''"
   ]
  },
  {
   "cell_type": "code",
   "execution_count": 6,
   "id": "f558d8ea-98cb-4ba9-b69b-415479164da5",
   "metadata": {},
   "outputs": [
    {
     "name": "stdout",
     "output_type": "stream",
     "text": [
      "Number correct = 195\n",
      "Total = 215\n"
     ]
    }
   ],
   "source": [
    "with open('gsm-results-03-next215-gpt-4o-mini.json', 'r') as json_file:\n",
    "    json_list = json.load(json_file)\n",
    "numCorrect = 0\n",
    "for i in range(len(json_list)):\n",
    "    if abs(json_list[i][\"target\"] - json_list[i][\"received\"]) < 1e-6:\n",
    "        #print(i)\n",
    "        numCorrect += 1\n",
    "print(\"Number correct = \" + str(numCorrect))\n",
    "print(\"Total = \" + str(len(json_list)))"
   ]
  },
  {
   "cell_type": "code",
   "execution_count": null,
   "id": "7ee03532-0ef3-4ebc-8060-f330efa71a7a",
   "metadata": {},
   "outputs": [],
   "source": []
  }
 ],
 "metadata": {
  "kernelspec": {
   "display_name": "Python 3 (ipykernel)",
   "language": "python",
   "name": "python3"
  },
  "language_info": {
   "codemirror_mode": {
    "name": "ipython",
    "version": 3
   },
   "file_extension": ".py",
   "mimetype": "text/x-python",
   "name": "python",
   "nbconvert_exporter": "python",
   "pygments_lexer": "ipython3",
   "version": "3.12.4"
  }
 },
 "nbformat": 4,
 "nbformat_minor": 5
}
